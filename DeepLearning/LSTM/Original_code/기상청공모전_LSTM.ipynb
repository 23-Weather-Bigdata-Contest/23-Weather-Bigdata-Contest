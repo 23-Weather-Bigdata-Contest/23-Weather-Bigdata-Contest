{
  "cells": [
    {
      "cell_type": "code",
      "execution_count": null,
      "metadata": {
        "id": "YcIOSn2FsLjS"
      },
      "outputs": [],
      "source": [
        "# set module\n",
        "import pandas as pd\n",
        "from google.colab import drive\n",
        "drive.mount('/content/drive/')\n",
        "#경로 설정\n",
        "import os\n",
        "new_dir = \"/content/drive/MyDrive/기상청/데이터/지면온도\"\n",
        "os.chdir(new_dir)  # 현재 작업 디렉토리 변경\n",
        "current_dir = os.getcwd()\n",
        "print(\"현재 작업 디렉토리:\", current_dir)"
      ]
    },
    {
      "cell_type": "code",
      "execution_count": null,
      "metadata": {
        "id": "6Tpk1H3WsSQA"
      },
      "outputs": [],
      "source": [
        "# 데이터 읽어오기\n",
        "data_train = pd.read_csv(\"./surface_tp_train.csv\")\n",
        "data_test= pd.read_csv(\"./surface_tp_test.csv\")"
      ]
    },
    {
      "cell_type": "code",
      "execution_count": null,
      "metadata": {
        "id": "pT5eMKpZvFtS"
      },
      "outputs": [],
      "source": [
        "## column 명 추출\n",
        "data_train.drop('Unnamed: 0', axis = 1, inplace = True)\n",
        "data_train.drop('...1', axis = 1, inplace = True)\n",
        "data_test.drop('Unnamed: 0', axis = 1, inplace = True)"
      ]
    },
    {
      "cell_type": "markdown",
      "metadata": {
        "id": "OHWfvF8StbSj"
      },
      "source": [
        "## 시각화 진행"
      ]
    },
    {
      "cell_type": "code",
      "execution_count": null,
      "metadata": {
        "id": "l6vsQ81Est5K"
      },
      "outputs": [],
      "source": [
        "## 대푯값 확인 -> train\n",
        "data_train.describe()"
      ]
    },
    {
      "cell_type": "code",
      "execution_count": null,
      "metadata": {
        "id": "qTSBEUvLvs-f"
      },
      "outputs": [],
      "source": [
        "data_train.info()"
      ]
    },
    {
      "cell_type": "code",
      "execution_count": null,
      "metadata": {
        "id": "eVDiasnuwrnQ"
      },
      "outputs": [],
      "source": [
        "## 제거 : -99, -99.9, -999\n",
        "\n",
        "import pandas as pd\n",
        "import numpy as np\n",
        "\n",
        "class data_preprocessing():\n",
        "  def __init__(self, data, test):\n",
        "    self.data = data\n",
        "    self.na_counts = None\n",
        "    self.list_na = None\n",
        "    self.ratio_result = None\n",
        "    self.list_columns = None\n",
        "    self.test = test\n",
        "\n",
        "  ## na 개수 발견\n",
        "  def count_na_per_column(self):\n",
        "    special_values = [-99, -99.9, -999]\n",
        "    list_counts = []\n",
        "    for col in self.data.columns:\n",
        "        counts = self.data[col].isin(special_values).sum()\n",
        "        list_counts.append(counts)\n",
        "    self.list_na = list_counts\n",
        "    return self.list_na\n",
        "\n",
        "  def divide_list_elements(self, lst, divisor):\n",
        "      divided_lst = [x / divisor for x in lst]\n",
        "      return divided_lst\n",
        "\n",
        "  ## na 개수 전체 데이터 중 비율 세기\n",
        "  def ratio(self):\n",
        "    self.ratio_result = self.divide_list_elements(self.list_na, len(self.data))\n",
        "    return self.ratio_result\n",
        "\n",
        "  def remove_column(self):\n",
        "    self.list_columns = []\n",
        "    # 역순으로 반복문 실행하여 열을 삭제\n",
        "    for i in range(len(self.ratio_result)-1, -1, -1):\n",
        "        if self.ratio_result[i] >= 0.4:\n",
        "          self.list_columns.append(self.data.columns[i])\n",
        "            # print(self.ratio_result[i])\n",
        "            # print(i)\n",
        "          self.data = self.data.drop(self.data.columns[i], axis=1)\n",
        "    return self.data\n",
        "\n",
        "  def remove_columns_test(self):\n",
        "    data = self.data\n",
        "    for i in self.list_columns:\n",
        "      ## . 기준으로 마지막 부분 없애고,\n",
        "      new_col = i.replace(\"train\", \"test\")\n",
        "      # print(new_col)\n",
        "      try: ## train만 있는 열이 있을 경우에는 pass 하자\n",
        "        data = data.drop(new_col, axis=1)\n",
        "      except:\n",
        "        pass\n",
        "    return data\n",
        "\n",
        "\n",
        "  def result(self, train_or_test):\n",
        "    if train_or_test == \"train\":\n",
        "      # self.replace_99()\n",
        "      self.count_na_per_column()\n",
        "      self.ratio()\n",
        "      return self.remove_column()\n",
        "    else:\n",
        "      self.data = self.test\n",
        "      # self.replace_99() ## null 로 변경\n",
        "      return self.remove_columns_test() ## train에서 제거되는 행으로 제거"
      ]
    },
    {
      "cell_type": "code",
      "execution_count": null,
      "metadata": {
        "id": "ib7h0ixtvsXr"
      },
      "outputs": [],
      "source": [
        "dp= data_preprocessing(data_train, data_test)\n",
        "result_train = dp.result('train')\n",
        "result_train\n",
        "result_test = dp.result(\"test\")\n",
        "result_test"
      ]
    },
    {
      "cell_type": "code",
      "execution_count": null,
      "metadata": {
        "id": "7_ik7rxZOW9Y"
      },
      "outputs": [],
      "source": [
        "result_train.dropna(inplace = True)\n",
        "result_train.info()"
      ]
    },
    {
      "cell_type": "code",
      "execution_count": null,
      "metadata": {
        "id": "MR_L-UaaJspy"
      },
      "outputs": [],
      "source": [
        "# result_train['hh'] = result_train['surface_tp_train.mmddhh'].astype(int).astype(str).str[-2:]\n",
        "# result_train['dd'] = result_train['surface_tp_train.mmddhh'].astype(int).astype(str).str[-4:-2]\n",
        "# result_train['mm'] = result_train['surface_tp_train.mmddhh'].astype(int).astype(str).str[:-4]\n",
        "# year_mapping = {'A': 2001, 'B': 2002, 'C': 2003, 'D': 2004, 'E': 2005, 'F': 2006}\n",
        "# result_train['new_year'] = result_train['surface_tp_train.year'].map(year_mapping)\n",
        "# result_train['mm'] = result_train['mm'].apply(lambda x: x.zfill(2))\n",
        "# result_train['date'] = pd.to_datetime(result_train['new_year'].astype(str) + result_train['mm'] + result_train['dd'] + result_train['hh'], format='%Y%m%d%H')\n",
        "\n",
        "def adding_date(data_original, season): # season: all, spring, summer, fall, winter 계절별로 넣기 가능\n",
        "  data = data_original\n",
        "  data['hh'] = data['surface_tp_train.mmddhh'].astype(int).astype(str).str[-2:]\n",
        "  data['dd'] = data['surface_tp_train.mmddhh'].astype(int).astype(str).str[-4:-2]\n",
        "  data['mm'] = data['surface_tp_train.mmddhh'].astype(int).astype(str).str[:-4]\n",
        "  year_mapping = {'A': 2001, 'B': 2002, 'C': 2003, 'D': 2004, 'E': 2005, 'F': 2006}\n",
        "  data['new_year'] = data['surface_tp_train.year'].map(year_mapping)\n",
        "  data['mm'] = data['mm'].apply(lambda x: x.zfill(2))\n",
        "  data['date'] = pd.to_datetime(data['new_year'].astype(str) + data['mm'] + data['dd'] + data['hh'], format='%Y%m%d%H')\n",
        "\n",
        "  spring_month_list = ['02', '03', '04']\n",
        "  summer_month_list = ['05', '06', '07']\n",
        "  fall_month_list = ['08', '09', '10']\n",
        "  winter_month_list = ['11', '12', '01']\n",
        "\n",
        "  if season == \"all\":\n",
        "    pass\n",
        "  elif season == \"spring\":\n",
        "    filtered_data = data[data['mm'].isin(spring_month_list)]\n",
        "  elif season == \"summer\":\n",
        "    filtered_data = data[data['mm'].isin(summer_month_list)]\n",
        "  elif season == \"fall\":\n",
        "    filtered_data = data[data['mm'].isin(fall_month_list)]\n",
        "  elif season == \"winter\":\n",
        "    filtered_data = data[data['mm'].isin(winter_month_list)]\n",
        "  else:\n",
        "    raise ValueError(\"not season value\")\n",
        "\n",
        "  # data = filtered_data.drop([\"surface_tp_train.year\", 'surface_tp_train.mmddhh', 'hh', 'dd', 'mm', 'new_year'], axis = 1)\n",
        "  data = filtered_data.drop([\"surface_tp_train.year\", 'surface_tp_train.mmddhh'], axis = 1)\n",
        "  # data[\"datetime\"] = pd.to_datetime(data[\"date\"])  # 문자열을 날짜/시간 유형으로 변환\n",
        "  ## datetime 순으로 index 생성\n",
        "  data.reset_index(inplace=True)\n",
        "  data.index = data.index.astype(int)\n",
        "  return data\n",
        "\n",
        "### 지역 별로 데이터를 쪼개주는 함수\n",
        "\n",
        "def region_category(data, region_number): # region_number는 자기가 알아서 넣기로\n",
        "\n",
        "  # 주어진 열을 기준으로 데이터 프레임을 필터링하고 값 종류별로 데이터를 쪼갬\n",
        "  unique_values = data['surface_tp_train.stn'].unique()  # 주어진 열의 고유한 값들을 추출\n",
        "\n",
        "  if region_number in unique_values:\n",
        "    result = data[data['surface_tp_train.stn'] == region_number]  # 주어진 값에 해당하는 데이터만 필터링하여 저장\n",
        "  else:\n",
        "    raise ValueError(\"not in region number\")\n",
        "\n",
        "  return result\n",
        "\n",
        "\n",
        "def change_columns(data):\n",
        "  data.columns = data.columns.str.replace(\".\", \"_\")\n",
        "\n",
        "\n",
        "def change_to_category(data, columns_name):\n",
        "  data[columns_name] = data[columns_name].astype(str).astype('category')\n",
        "  return data\n"
      ]
    },
    {
      "cell_type": "code",
      "execution_count": null,
      "metadata": {
        "id": "VbJhBExZSotb"
      },
      "outputs": [],
      "source": [
        "result_train_spring = adding_date(result_train, \"summer\")\n",
        "result_train_spring.columns\n",
        "\n",
        "## region 별로 나누기\n",
        "train_region_1_spring = region_category(result_train_spring, 1)\n",
        "train_region_2_spring = region_category(result_train_spring, 2)\n",
        "train_region_3_spring = region_category(result_train_spring, 3)\n",
        "train_region_4_spring = region_category(result_train_spring, 4)\n",
        "train_region_5_spring = region_category(result_train_spring, 5)\n",
        "train_region_6_spring = region_category(result_train_spring, 6)\n",
        "train_region_7_spring = region_category(result_train_spring, 7)\n",
        "train_region_8_spring = region_category(result_train_spring, 8)\n",
        "train_region_9_spring = region_category(result_train_spring, 8)\n",
        "train_region_10_spring = region_category(result_train_spring, 10)"
      ]
    },
    {
      "cell_type": "code",
      "execution_count": null,
      "metadata": {
        "id": "XTk9fYEwcpx9"
      },
      "outputs": [],
      "source": [
        "## category 명 변경;\n",
        "def category_changing(data):\n",
        "  list_columns = [\"surface_tp_train_stn\", \"new_year\", \"mm\", \"dd\", \"hh\", \"surface_tp_train_ww\"]\n",
        "  for column in list_columns:\n",
        "      data = change_to_category(data, column)\n",
        "\n",
        "## time index  제작:\n",
        "def indexing(data):\n",
        "  ## column 이름에 . 제거\n",
        "  change_columns(data)\n",
        "  data.drop(\"index\", axis = 1, inplace=True)\n",
        "  ## sort 하고 타임 index 생성\n",
        "  data.sort_values(\"date\", ascending = True, inplace = True)\n",
        "  data['time_idx'] = range(len(data))\n",
        "  return data\n",
        "\n",
        "## date drop:\n",
        "def drop_date(data):\n",
        "  data.drop(\"date\", axis = 1, inplace = True)\n",
        "\n",
        "## main 실행\n",
        "list_data = [train_region_1_spring, train_region_2_spring, train_region_3_spring, train_region_4_spring, train_region_5_spring\n",
        "             ,train_region_6_spring,train_region_7_spring,train_region_8_spring,train_region_9_spring, train_region_10_spring]\n",
        "\n",
        "for data in list_data:\n",
        "  change_columns(data)\n",
        "  category_changing(data)\n",
        "  data = indexing(data)\n",
        "  drop_date(data)"
      ]
    },
    {
      "cell_type": "code",
      "execution_count": null,
      "metadata": {
        "id": "kxd7VvR1z7aM"
      },
      "outputs": [],
      "source": [
        "new_directory = \"/content/drive/MyDrive/기상청 (1)\"\n",
        "os.chdir(new_directory)\n",
        "root_directory = os.getcwd()\n",
        "root_directory"
      ]
    },
    {
      "cell_type": "code",
      "execution_count": null,
      "metadata": {
        "id": "ucKKwDSjIcrT"
      },
      "outputs": [],
      "source": [
        "train_region_1_spring"
      ]
    },
    {
      "cell_type": "code",
      "execution_count": null,
      "metadata": {
        "id": "vSwv94Vih_JL"
      },
      "outputs": [],
      "source": [
        "\n",
        "!nvidia-smi"
      ]
    },
    {
      "cell_type": "code",
      "execution_count": null,
      "metadata": {
        "id": "oaSAzVJImpgZ"
      },
      "outputs": [],
      "source": [
        "import torch, gc\n",
        "gc.collect()\n",
        "torch.cuda.empty_cache()"
      ]
    },
    {
      "cell_type": "markdown",
      "metadata": {
        "id": "zSn-jP7I7Q9R"
      },
      "source": [
        "## LSTM 코드 구현\n",
        "\n",
        "### 변수\n",
        "<div>\n",
        "  <table>\n",
        "    <tr>\n",
        "      <th>Column</th>\n",
        "      <th>Description</th>\n",
        "      <th>Data Type</th>\n",
        "    </tr>\n",
        "    <tr>\n",
        "      <td>surface_tp_train.stn</td>\n",
        "      <td>지역번호</td>\n",
        "      <td>category</td>\n",
        "    </tr>\n",
        "    <tr>\n",
        "      <td>surface_tp_train.ta</td>\n",
        "      <td>1시간 평균 기온</td>\n",
        "      <td>numeric</td>\n",
        "    </tr>\n",
        "    <tr>\n",
        "      <td>surface_tp_train.td</td>\n",
        "      <td>1시간 평균 이슬점온도</td>\n",
        "      <td>numeric</td>\n",
        "    </tr>\n",
        "    <tr>\n",
        "      <td>surface_tp_train.hm</td>\n",
        "      <td>1시간 평균 상대 습도</td>\n",
        "      <td>numeric</td>\n",
        "    </tr>\n",
        "    <tr>\n",
        "      <td>surface_tp_train.ws</td>\n",
        "      <td>1시간 평균 풍속</td>\n",
        "      <td>numeric</td>\n",
        "    </tr>\n",
        "    <tr>\n",
        "      <td>surface_tp_train.rn</td>\n",
        "      <td>1시간 누적 강수량</td>\n",
        "      <td>numeric</td>\n",
        "    </tr>\n",
        "    <tr>\n",
        "      <td>surface_tp_train.re</td>\n",
        "      <td>1시간 누적 강수 유무</td>\n",
        "      <td>category</td>\n",
        "    </tr>\n",
        "    <tr>\n",
        "      <td>surface_tp_train.ww</td>\n",
        "      <td>현천개 현천</td>\n",
        "      <td>category</td>\n",
        "    </tr>\n",
        "    <tr>\n",
        "      <td>surface_tp_train.ts</td>\n",
        "      <td>1시간 평균 지면온도</td>\n",
        "      <td>target</td>\n",
        "    </tr>\n",
        "    <tr>\n",
        "      <td>hh</td>\n",
        "      <td>시간</td>\n",
        "      <td>category</td>\n",
        "    </tr>\n",
        "    <tr>\n",
        "      <td>dd</td>\n",
        "      <td>날짜</td>\n",
        "      <td>category</td>\n",
        "    </tr>\n",
        "    <tr>\n",
        "      <td>mm</td>\n",
        "      <td>달</td>\n",
        "      <td>category</td>\n",
        "    </tr>\n",
        "    <tr>\n",
        "      <td>new_year</td>\n",
        "      <td>연도</td>\n",
        "      <td>category</td>\n",
        "    </tr>\n",
        "    <tr>\n",
        "      <td>date</td>\n",
        "      <td>총 시간 datetime</td>\n",
        "      <td>category</td>\n",
        "    </tr>\n",
        "  </table>\n",
        "</div>\n"
      ]
    },
    {
      "cell_type": "code",
      "execution_count": null,
      "metadata": {
        "id": "1Gh8q1ib-TCQ"
      },
      "outputs": [],
      "source": [
        "## 지역 개수 10개를 병렬적으로 학습하게 넣을 예정\n",
        "## window size 지정 필요\n",
        "\n",
        "## 들어가는 데이터 열의 개수는\n",
        "\n",
        "\"\"\"\n",
        "'surface_tp_train_stn', 'surface_tp_train_ta', 'surface_tp_train_td',\n",
        "       'surface_tp_train_hm', 'surface_tp_train_ws', 'surface_tp_train_rn',\n",
        "       'surface_tp_train_re', 'surface_tp_train_ww', 'surface_tp_train_ts','time_idx'\n",
        "       에서 target값인 surface_tp_train_ts, groupby pivot인 surface_tp_train_stn 를 제거하고 넣을 예정\n",
        "       :8가지\n",
        "\"\"\"\n",
        "## model import\n",
        "import numpy as np\n",
        "import pandas as pd\n",
        "import pandas_datareader.data as pdr\n",
        "import matplotlib.pyplot as plt\n",
        "import datetime\n",
        "import torch\n",
        "import torch.nn as nn\n",
        "from torch.autograd import Variable\n",
        "import torch.optim as optim\n",
        "from torch.utils.data import Dataset, DataLoader\n",
        "from sklearn.preprocessing import StandardScaler, MinMaxScaler, RobustScaler\n",
        "from sklearn.preprocessing import LabelEncoder\n",
        "from sklearn.model_selection import train_test_split\n",
        "\n",
        "# GPU setting\n",
        "device = torch.device(\"cuda:0\" if torch.cuda.is_available() else \"cpu\")\n",
        "print(torch.cuda.get_device_name(0)) #Google colab = TESLA T4\n",
        "\n",
        "# Training/Test ratio = 8:2\n",
        "\n",
        "Train_ratio = 0.8\n",
        "Test_ratio = 0.2\n",
        "\n",
        "def labelencoding(data):\n",
        "  x = data[['surface_tp_train_stn', 'surface_tp_train_ta', 'surface_tp_train_td',\n",
        "        'surface_tp_train_hm', 'surface_tp_train_ws', 'surface_tp_train_rn',\n",
        "        'surface_tp_train_re', 'surface_tp_train_ww', 'time_idx']]\n",
        "  y = data[\"surface_tp_train_ts\"]\n",
        "\n",
        "\n",
        "  ## x에서 문자열 라벨 인코딩 진행:\n",
        "  le = LabelEncoder()\n",
        "  le.fit(x.surface_tp_train_ww)\n",
        "  x.surface_tp_train_ww = le.transform(x.surface_tp_train_ww)\n",
        "  return x, y\n",
        "\n",
        "x_region_1_spring, y_region_1_spring = labelencoding(train_region_1_spring)\n",
        "x_region_2_spring, y_region_2_spring = labelencoding(train_region_2_spring)\n",
        "x_region_3_spring, y_region_3_spring = labelencoding(train_region_3_spring)\n",
        "x_region_4_spring, y_region_4_spring = labelencoding(train_region_4_spring)\n",
        "x_region_5_spring, y_region_5_spring = labelencoding(train_region_5_spring)\n",
        "x_region_6_spring, y_region_6_spring = labelencoding(train_region_6_spring)\n",
        "x_region_7_spring, y_region_7_spring = labelencoding(train_region_7_spring)\n",
        "x_region_8_spring, y_region_8_spring = labelencoding(train_region_8_spring)\n",
        "x_region_9_spring, y_region_9_spring = labelencoding(train_region_9_spring)\n",
        "x_region_10_spring, y_region_10_spring = labelencoding(train_region_10_spring)"
      ]
    },
    {
      "cell_type": "code",
      "execution_count": null,
      "metadata": {
        "id": "SZqnjL-vX6Uz"
      },
      "outputs": [],
      "source": [
        "def before_modeling(x, y, scaler = 'minmax'):\n",
        "  # Data Division\n",
        "  train_x, test_x, train_y, test_y = train_test_split(x, y, test_size=Test_ratio, random_state=42, shuffle = False)\n",
        "\n",
        "  ## scaling:\n",
        "  # 카테고리 변수 지정\n",
        "  cat = [\"surface_tp_train_re\", \"surface_tp_train_ww\", \"surface_tp_train_stn\", \"time_idx\"]\n",
        "\n",
        "  for category in cat:\n",
        "    train_x[category] = train_x[category].astype(\"category\")\n",
        "\n",
        "  numeric_cols = [col for col in train_x.columns if col not in cat]\n",
        "\n",
        "  if scaler == 'minmax':\n",
        "  # Normalizing , 둘다 학습하여 성능비교할것\n",
        "    minmax = MinMaxScaler()\n",
        "    train_y = train_y.values.reshape(-1, 1)\n",
        "    test_y = test_y.values.reshape(-1, 1)\n",
        "    minmax.fit(train_x[numeric_cols])\n",
        "    train_x[numeric_cols]= minmax.transform(train_x[numeric_cols])\n",
        "    test_x[numeric_cols] = minmax.transform(test_x[numeric_cols])\n",
        "\n",
        "  elif scaler == 'standard':\n",
        "    standard = StandardScaler()\n",
        "    train_y = train_y.values.reshape(-1, 1)\n",
        "    test_y = test_y.values.reshape(-1, 1)\n",
        "    standard.fit(train_x[numeric_cols])\n",
        "    train_x[numeric_cols]= standard.transform(train_x[numeric_cols])\n",
        "    test_x[numeric_cols] = standard.transform(test_x[numeric_cols])\n",
        "\n",
        "  elif scaler == 'robust':\n",
        "    robust = RobustScaler()\n",
        "    train_y = train_y.values.reshape(-1, 1)\n",
        "    test_y = test_y.values.reshape(-1, 1)\n",
        "    robust.fit(train_x[numeric_cols])\n",
        "    train_x[numeric_cols]= robust.transform(train_x[numeric_cols])\n",
        "    test_x[numeric_cols] = robust.transform(test_x[numeric_cols])\n",
        "\n",
        "  # Check Data pre-processing\n",
        "  print(\"Training shape : \", train_x.shape, train_y.shape)\n",
        "  print(\"Test shape : \",test_x.shape, test_y.shape)\n",
        "  return train_x, test_x, train_y, test_y"
      ]
    },
    {
      "cell_type": "code",
      "execution_count": null,
      "metadata": {
        "id": "8mT7sT57dcYo"
      },
      "outputs": [],
      "source": [
        "## standard scaling 진행\n",
        "train_x_region_1_spring, test_x_region_1_spring, train_y_region_1_spring, test_y_region_1_spring = before_modeling(x_region_1_spring, y_region_1_spring, 'robust')\n",
        "train_x_region_2_spring, test_x_region_2_spring, train_y_region_2_spring, test_y_region_2_spring = before_modeling(x_region_2_spring, y_region_2_spring, 'robust')\n",
        "train_x_region_3_spring, test_x_region_3_spring, train_y_region_3_spring, test_y_region_3_spring = before_modeling(x_region_3_spring, y_region_3_spring, 'robust')\n",
        "train_x_region_4_spring, test_x_region_4_spring, train_y_region_4_spring, test_y_region_4_spring = before_modeling(x_region_4_spring, y_region_4_spring, 'robust')\n",
        "train_x_region_5_spring, test_x_region_5_spring, train_y_region_5_spring, test_y_region_5_spring = before_modeling(x_region_5_spring, y_region_5_spring, 'robust')\n",
        "train_x_region_6_spring, test_x_region_6_spring, train_y_region_6_spring, test_y_region_6_spring = before_modeling(x_region_6_spring, y_region_6_spring, 'robust')\n",
        "train_x_region_7_spring, test_x_region_7_spring, train_y_region_7_spring, test_y_region_7_spring = before_modeling(x_region_1_spring, y_region_7_spring, 'robust')\n",
        "train_x_region_8_spring, test_x_region_8_spring, train_y_region_8_spring, test_y_region_8_spring = before_modeling(x_region_8_spring, y_region_8_spring, 'robust')\n",
        "train_x_region_9_spring, test_x_region_9_spring, train_y_region_9_spring, test_y_region_9_spring = before_modeling(x_region_9_spring, y_region_9_spring, 'robust')\n",
        "train_x_region_10_spring, test_x_region_10_spring, train_y_region_10_spring, test_y_region_10_spring = before_modeling(x_region_10_spring, y_region_10_spring, 'robust')"
      ]
    },
    {
      "cell_type": "code",
      "execution_count": null,
      "metadata": {
        "id": "k_a5kQlRUsg1"
      },
      "outputs": [],
      "source": [
        "train_x_name = [train_x_region_1_spring, train_x_region_2_spring, train_x_region_3_spring, train_x_region_4_spring, train_x_region_5_spring,\n",
        "                train_x_region_6_spring, train_x_region_7_spring, train_x_region_8_spring, train_x_region_9_spring, train_x_region_10_spring]\n",
        "\n",
        "test_x_name = [test_x_region_1_spring, test_x_region_2_spring, test_x_region_3_spring, test_x_region_4_spring, test_x_region_5_spring,\n",
        "                test_x_region_6_spring, test_x_region_7_spring, test_x_region_8_spring, test_x_region_9_spring, test_x_region_10_spring]\n",
        "\n",
        "train_y_name = [train_y_region_1_spring, train_y_region_2_spring, train_y_region_3_spring, train_y_region_4_spring, train_y_region_5_spring,\n",
        "                train_y_region_6_spring, train_y_region_7_spring, train_y_region_8_spring, train_y_region_9_spring, train_y_region_10_spring]\n",
        "\n",
        "test_y_name = [test_y_region_1_spring, test_y_region_2_spring, test_y_region_3_spring, test_y_region_4_spring, test_y_region_5_spring,\n",
        "                test_y_region_6_spring, test_y_region_7_spring, test_y_region_8_spring, test_y_region_9_spring, test_y_region_10_spring]\n",
        "\n",
        "num = [1, 2, 3, 4, 5, 6, 7, 8, 9, 10]\n",
        "\n",
        "\n",
        "# # 비어있는 torch에 x 변수들 넣기\n",
        "# def dataload(x_name, num, x_parallel):\n",
        "#   ## train_x 변수 명에서 숫자가 몇인지를 보고, 이를 통해서 torch 위치를 지정하자\n",
        "#   region_index = num\n",
        "#   ## train_x 리스트로 제작:\n",
        "#   columns_feature = [\"surface_tp_train_ta\", \"surface_tp_train_td\", \"surface_tp_train_hm\", \"surface_tp_train_ws\", \"surface_tp_train_rn\", \"surface_tp_train_re\", \"surface_tp_train_ww\"]\n",
        "#   for i in range(len(x_name)):\n",
        "#     list_feature = x_name[columns_feature].iloc[i].to_list()\n",
        "#     ## 제작된 리스트를 순서대로 torch에 넣는다.\n",
        "#     for j in range(len(list_feature)):\n",
        "#       x_parallel[region_index, i, j] = list_feature[j]\n",
        "\n",
        "## torch에 x 담기\n",
        "# 비어있는 torch 생성\n",
        "def empty_torch(train_x):\n",
        "  num_power = 10\n",
        "  num_features = 7 ## surface_tp_train_stn, time_idx 제외하고 리스트로 들어갈 예정\n",
        "  length = int(train_x.shape[0])\n",
        "  size = (length, num_power, num_features)## 데이터 개수, 지점 개수, 피처 개수\n",
        "  train_x_parallel = torch.empty(size)\n",
        "  return train_x_parallel\n",
        "\n",
        "\n",
        "# 비어있는 torch에 x 변수들 넣기\n",
        "def dataload(x_name, num, x_parallel):\n",
        "  ## train_x 변수 명에서 숫자가 몇인지를 보고, 이를 통해서 torch 위치를 지정하자\n",
        "  region_index = num\n",
        "  ## train_x 리스트로 제작:\n",
        "  columns_feature = [\"surface_tp_train_ta\", \"surface_tp_train_td\", \"surface_tp_train_hm\", \"surface_tp_train_ws\", \"surface_tp_train_rn\", \"surface_tp_train_re\", \"surface_tp_train_ww\"]\n",
        "  for i in range(len(x_name)):\n",
        "    list_feature = x_name[columns_feature].iloc[i].to_list() ## 변수 종류\n",
        "    ## 제작된 리스트를 순서대로 torch에 넣는다.\n",
        "    for j in range(len(list_feature)):\n",
        "      x_parallel[i, region_index, j] = list_feature[j]\n",
        "\n",
        "\n",
        "\n",
        "## torch_y 담기...\n",
        "# 비어있는 torch 생성\n",
        "def empty_target(train_x):\n",
        "  num_power = 10 ## 지점수\n",
        "  num_features = 1 ## surface_tp_train_stn, time_idx 제외하고 리스트로 들어갈 예정\n",
        "  length = int(train_x.shape[0])\n",
        "  size = (length, num_power, num_features)\n",
        "  train_y_parallel = torch.empty(size)\n",
        "  return train_y_parallel\n",
        "\n",
        "# 비어있는 torch에 target 넣기\n",
        "def target_torch(y_name, num, y_parallel):\n",
        "  ## train_x 변수 명에서 숫자가 몇인지를 보고, 이를 통해서 torch 위치를 지정하자\n",
        "  region_index = num\n",
        "  ## train_x 리스트로 제작:\n",
        "  for i in range(len(y_name)):\n",
        "    tensor = y_name[i]\n",
        "    ## 제작된 리스트를 순서대로 torch에 넣는다.\n",
        "    for j in range(len(tensor)):\n",
        "      y_parallel[i, region_index, j] = tensor[j]"
      ]
    },
    {
      "cell_type": "code",
      "execution_count": null,
      "metadata": {
        "id": "W0OcXccTpdUU"
      },
      "outputs": [],
      "source": [
        "## train_x 병렬화\n",
        "train_x_parallel = empty_torch(train_x_region_1_spring)\n",
        "for num in range(0,10,1):\n",
        "  train_x = train_x_name[num]\n",
        "  num = num\n",
        "  dataload(train_x, num, train_x_parallel)"
      ]
    },
    {
      "cell_type": "code",
      "execution_count": null,
      "metadata": {
        "colab": {
          "base_uri": "https://localhost:8080/"
        },
        "id": "OPZUrNmQharH",
        "outputId": "c4b9c4df-23aa-432f-dd4e-e67c11a9936d"
      },
      "outputs": [
        {
          "output_type": "execute_result",
          "data": {
            "text/plain": [
              "tensor([[[-0.6800, -0.4819, -0.0712,  ...,  0.0000,  0.0000,  3.0000],\n",
              "         [-0.8143, -0.4337,  0.1261,  ...,  0.0000,  0.0000,  0.0000],\n",
              "         [-1.0870, -0.4333,  0.4135,  ...,  0.0000,  0.0000,  3.0000],\n",
              "         ...,\n",
              "         [-1.0152, -0.7816, -0.1880,  ...,  0.0000,  0.0000,  3.0000],\n",
              "         [-1.0152, -0.7816, -0.1880,  ...,  0.0000,  0.0000,  3.0000],\n",
              "         [-1.0189, -0.7342, -0.2109,  ...,  0.0000,  0.0000,  0.0000]],\n",
              "\n",
              "        [[-0.9067, -0.4458,  0.1966,  ...,  0.0000,  0.0000,  3.0000],\n",
              "         [-0.9143, -0.6145,  0.0176,  ...,  0.0000,  0.0000,  0.0000],\n",
              "         [-1.1739, -0.4222,  0.5064,  ...,  0.0000,  0.0000,  3.0000],\n",
              "         ...,\n",
              "         [-1.0909, -0.7241, -0.0513,  ...,  0.0000,  0.0000,  3.0000],\n",
              "         [-1.0909, -0.7241, -0.0513,  ...,  0.0000,  0.0000,  3.0000],\n",
              "         [-1.0755, -0.7089, -0.1211,  ...,  0.0000,  0.0000,  0.0000]],\n",
              "\n",
              "        [[-1.0267, -0.4458,  0.3333,  ...,  0.0000,  0.0000,  3.0000],\n",
              "         [-1.0143, -0.7349, -0.0293,  ...,  0.0000,  0.0000,  0.0000],\n",
              "         [-1.2319, -0.4333,  0.5609,  ...,  0.0000,  0.0000,  3.0000],\n",
              "         ...,\n",
              "         [-1.1364, -0.7011,  0.0285,  ...,  0.0000,  0.0000,  3.0000],\n",
              "         [-1.1364, -0.7011,  0.0285,  ...,  0.0000,  0.0000,  3.0000],\n",
              "         [-1.0943, -0.6835, -0.0469,  ...,  0.0000,  0.0000,  0.0000]],\n",
              "\n",
              "        ...,\n",
              "\n",
              "        [[ 0.4933,  1.1446,  0.6410,  ...,  0.0000,  0.0000,  3.0000],\n",
              "         [ 0.8571,  0.7831, -0.0323,  ...,  0.0000,  0.0000,  0.0000],\n",
              "         [ 0.5797,  0.9444,  0.6154,  ...,  0.0000,  0.0000,  0.0000],\n",
              "         ...,\n",
              "         [ 0.6515,  0.7701,  0.2137,  ...,  0.0000,  0.0000,  0.0000],\n",
              "         [ 0.6515,  0.7701,  0.2137,  ...,  0.0000,  0.0000,  0.0000],\n",
              "         [ 0.7547,  0.8228,  0.4297,  ...,  0.0000,  0.0000,  0.0000]],\n",
              "\n",
              "        [[ 0.4533,  1.1084,  0.6439,  ...,  0.0000,  0.0000,  3.0000],\n",
              "         [ 0.7000,  0.8072,  0.1290,  ...,  0.0000,  0.0000,  0.0000],\n",
              "         [ 0.5362,  0.9556,  0.6763,  ...,  0.0000,  0.0000,  0.0000],\n",
              "         ...,\n",
              "         [ 0.5758,  0.8161,  0.3476,  ...,  0.0000,  0.0000,  0.0000],\n",
              "         [ 0.5758,  0.8161,  0.3476,  ...,  0.0000,  0.0000,  0.0000],\n",
              "         [ 0.7170,  0.8228,  0.4883,  ...,  0.0000,  0.0000,  0.0000]],\n",
              "\n",
              "        [[ 0.4000,  1.0723,  0.6524,  ...,  0.0000,  0.0000,  3.0000],\n",
              "         [ 0.7143,  0.7831,  0.0997,  ...,  0.0000,  0.0000,  0.0000],\n",
              "         [ 0.4928,  0.9889,  0.7628,  ...,  0.2000, 11.0000,  4.0000],\n",
              "         ...,\n",
              "         [ 0.5000,  0.7931,  0.4074,  ...,  0.0000,  0.0000,  0.0000],\n",
              "         [ 0.5000,  0.7931,  0.4074,  ...,  0.0000,  0.0000,  0.0000],\n",
              "         [ 0.6604,  0.9114,  0.7031,  ...,  0.0000,  0.0000,  0.0000]]])"
            ]
          },
          "metadata": {},
          "execution_count": 21
        }
      ],
      "source": [
        "train_x_parallel"
      ]
    },
    {
      "cell_type": "code",
      "execution_count": null,
      "metadata": {
        "id": "uBZ8uTaDvmpy"
      },
      "outputs": [],
      "source": [
        "## test_x 병렬화\n",
        "test_x_parallel = empty_torch(test_x_region_1_spring)\n",
        "for num in range(0,10,1):\n",
        "  test_x = test_x_name[num]\n",
        "  num = num\n",
        "  dataload(test_x, num, test_x_parallel)"
      ]
    },
    {
      "cell_type": "code",
      "execution_count": null,
      "metadata": {
        "colab": {
          "base_uri": "https://localhost:8080/"
        },
        "id": "FZesRWxqia3R",
        "outputId": "2a985c7e-baad-4e12-c588-0fda8605790a"
      },
      "outputs": [
        {
          "output_type": "execute_result",
          "data": {
            "text/plain": [
              "tensor([[[-1.4800e+00, -8.7952e-01,  2.9345e-01,  ...,  0.0000e+00,\n",
              "           1.0000e+00,  4.0000e+00],\n",
              "         [-1.6429e+00, -8.6747e-01,  4.6921e-01,  ...,  0.0000e+00,\n",
              "           0.0000e+00,  0.0000e+00],\n",
              "         [-1.7391e+00, -8.3333e-01,  5.4487e-01,  ...,  0.0000e+00,\n",
              "           0.0000e+00,  0.0000e+00],\n",
              "         ...,\n",
              "         [-1.9242e+00, -1.2759e+00,  3.1339e-02,  ...,  0.0000e+00,\n",
              "           1.9000e+01,  0.0000e+00],\n",
              "         [-1.9242e+00, -1.2759e+00,  3.1339e-02,  ...,  0.0000e+00,\n",
              "           1.9000e+01,  0.0000e+00],\n",
              "         [-1.9245e+00, -1.1139e+00,  1.4453e-01,  ...,  5.1000e+00,\n",
              "           6.0000e+01,  4.0000e+00]],\n",
              "\n",
              "        [[-1.4933e+00, -8.5542e-01,  3.4188e-01,  ...,  0.0000e+00,\n",
              "           0.0000e+00,  3.0000e+00],\n",
              "         [-1.6429e+00, -8.7952e-01,  4.7214e-01,  ...,  0.0000e+00,\n",
              "           0.0000e+00,  0.0000e+00],\n",
              "         [-1.7681e+00, -8.4444e-01,  5.5449e-01,  ...,  0.0000e+00,\n",
              "           0.0000e+00,  0.0000e+00],\n",
              "         ...,\n",
              "         [-1.9545e+00, -1.2299e+00,  1.3390e-01,  ...,  4.0000e-01,\n",
              "           4.9000e+01,  0.0000e+00],\n",
              "         [-1.9545e+00, -1.2299e+00,  1.3390e-01,  ...,  4.0000e-01,\n",
              "           4.9000e+01,  0.0000e+00],\n",
              "         [-2.1132e+00, -1.2152e+00,  1.7188e-01,  ...,  7.0000e-01,\n",
              "           3.4000e+01,  4.0000e+00]],\n",
              "\n",
              "        [[-1.5467e+00, -7.5904e-01,  5.2422e-01,  ...,  0.0000e+00,\n",
              "           0.0000e+00,  3.0000e+00],\n",
              "         [-1.6857e+00, -8.7952e-01,  5.1026e-01,  ...,  0.0000e+00,\n",
              "           0.0000e+00,  0.0000e+00],\n",
              "         [-1.7826e+00, -8.4444e-01,  5.7372e-01,  ...,  0.0000e+00,\n",
              "           0.0000e+00,  0.0000e+00],\n",
              "         ...,\n",
              "         [-2.0000e+00, -1.0805e+00,  4.1026e-01,  ...,  5.1000e+00,\n",
              "           6.0000e+01,  0.0000e+00],\n",
              "         [-2.0000e+00, -1.0805e+00,  4.1026e-01,  ...,  5.1000e+00,\n",
              "           6.0000e+01,  0.0000e+00],\n",
              "         [-2.1321e+00, -1.0886e+00,  4.3750e-01,  ...,  1.0000e+01,\n",
              "           6.0000e+01,  4.0000e+00]],\n",
              "\n",
              "        ...,\n",
              "\n",
              "        [[ 9.8667e-01,  1.1807e+00,  1.4815e-01,  ...,  0.0000e+00,\n",
              "           0.0000e+00,  0.0000e+00],\n",
              "         [ 8.4286e-01,  1.2410e+00,  5.2199e-01,  ...,  1.0000e+00,\n",
              "           2.8000e+01,  4.0000e+00],\n",
              "         [ 8.5507e-01,  6.5556e-01, -3.2051e-02,  ...,  0.0000e+00,\n",
              "           0.0000e+00,  0.0000e+00],\n",
              "         ...,\n",
              "         [ 9.8485e-01,  6.3218e-01, -2.3932e-01,  ...,  0.0000e+00,\n",
              "           0.0000e+00,  0.0000e+00],\n",
              "         [ 9.8485e-01,  6.3218e-01, -2.3932e-01,  ...,  0.0000e+00,\n",
              "           0.0000e+00,  0.0000e+00],\n",
              "         [ 1.2075e+00,  1.0380e+00,  2.9688e-01,  ...,  0.0000e+00,\n",
              "           0.0000e+00,  0.0000e+00]],\n",
              "\n",
              "        [[ 8.4000e-01,  1.1566e+00,  2.8205e-01,  ...,  0.0000e+00,\n",
              "           0.0000e+00,  0.0000e+00],\n",
              "         [ 7.7143e-01,  1.1928e+00,  5.3959e-01,  ...,  0.0000e+00,\n",
              "           0.0000e+00,  3.0000e+00],\n",
              "         [ 8.1159e-01,  7.3333e-01,  1.0577e-01,  ...,  0.0000e+00,\n",
              "           0.0000e+00,  0.0000e+00],\n",
              "         ...,\n",
              "         [ 8.7879e-01,  6.3218e-01, -1.6524e-01,  ...,  0.0000e+00,\n",
              "           0.0000e+00,  0.0000e+00],\n",
              "         [ 8.7879e-01,  6.3218e-01, -1.6524e-01,  ...,  0.0000e+00,\n",
              "           0.0000e+00,  0.0000e+00],\n",
              "         [ 1.1698e+00,  1.0506e+00,  3.5547e-01,  ...,  0.0000e+00,\n",
              "           0.0000e+00,  0.0000e+00]],\n",
              "\n",
              "        [[ 7.2000e-01,  1.1325e+00,  3.7607e-01,  ...,  0.0000e+00,\n",
              "           0.0000e+00,  0.0000e+00],\n",
              "         [ 7.0000e-01,  1.1446e+00,  5.6012e-01,  ...,  0.0000e+00,\n",
              "           0.0000e+00,  3.0000e+00],\n",
              "         [ 7.6812e-01,  7.4444e-01,  1.6026e-01,  ...,  0.0000e+00,\n",
              "           0.0000e+00,  0.0000e+00],\n",
              "         ...,\n",
              "         [ 7.7273e-01,  7.2414e-01,  3.7037e-02,  ...,  0.0000e+00,\n",
              "           0.0000e+00,  0.0000e+00],\n",
              "         [ 7.7273e-01,  7.2414e-01,  3.7037e-02,  ...,  0.0000e+00,\n",
              "           0.0000e+00,  0.0000e+00],\n",
              "         [ 1.1321e+00,  1.0759e+00,  4.2969e-01,  ...,  0.0000e+00,\n",
              "           0.0000e+00,  0.0000e+00]]])"
            ]
          },
          "metadata": {},
          "execution_count": 23
        }
      ],
      "source": [
        "test_x_parallel"
      ]
    },
    {
      "cell_type": "code",
      "execution_count": null,
      "metadata": {
        "id": "-DKzWKAO3824"
      },
      "outputs": [],
      "source": [
        "## train_y 병렬화\n",
        "train_y_parallel = empty_target(train_y_region_1_spring)\n",
        "for num in range(0,10,1):\n",
        "  train_y = train_y_name[num]\n",
        "  num = num\n",
        "  target_torch(train_y, num, train_y_parallel)"
      ]
    },
    {
      "cell_type": "code",
      "execution_count": null,
      "metadata": {
        "colab": {
          "base_uri": "https://localhost:8080/"
        },
        "id": "jsJa908iilLb",
        "outputId": "8cdd2dbb-d4ec-47ef-ffff-1081db4e4679"
      },
      "outputs": [
        {
          "output_type": "execute_result",
          "data": {
            "text/plain": [
              "tensor([[[17.1000],\n",
              "         [15.3000],\n",
              "         [12.8000],\n",
              "         ...,\n",
              "         [14.7000],\n",
              "         [14.7000],\n",
              "         [14.5000]],\n",
              "\n",
              "        [[16.4000],\n",
              "         [14.4000],\n",
              "         [12.0000],\n",
              "         ...,\n",
              "         [14.2000],\n",
              "         [14.2000],\n",
              "         [14.3000]],\n",
              "\n",
              "        [[15.9000],\n",
              "         [13.6000],\n",
              "         [11.7000],\n",
              "         ...,\n",
              "         [13.8000],\n",
              "         [13.8000],\n",
              "         [13.8000]],\n",
              "\n",
              "        ...,\n",
              "\n",
              "        [[26.3000],\n",
              "         [25.8000],\n",
              "         [25.5000],\n",
              "         ...,\n",
              "         [26.9000],\n",
              "         [26.9000],\n",
              "         [25.6000]],\n",
              "\n",
              "        [[26.1000],\n",
              "         [25.3000],\n",
              "         [25.4000],\n",
              "         ...,\n",
              "         [26.4000],\n",
              "         [26.4000],\n",
              "         [25.2000]],\n",
              "\n",
              "        [[25.6000],\n",
              "         [25.0000],\n",
              "         [25.3000],\n",
              "         ...,\n",
              "         [26.0000],\n",
              "         [26.0000],\n",
              "         [24.9000]]])"
            ]
          },
          "metadata": {},
          "execution_count": 25
        }
      ],
      "source": [
        "train_y_parallel"
      ]
    },
    {
      "cell_type": "code",
      "execution_count": null,
      "metadata": {
        "id": "18dSsCoT4B-d"
      },
      "outputs": [],
      "source": [
        "## test_y 병렬화\n",
        "test_y_parallel = empty_target(test_y_region_1_spring)\n",
        "for num in range(0,10,1):\n",
        "  test_y = test_y_name[num]\n",
        "  num = num\n",
        "  target_torch(test_y, num, test_y_parallel)"
      ]
    },
    {
      "cell_type": "code",
      "execution_count": null,
      "metadata": {
        "colab": {
          "base_uri": "https://localhost:8080/"
        },
        "id": "YVis9pm5imk4",
        "outputId": "7b137aa9-1caf-4390-c604-2b10c3284c8b"
      },
      "outputs": [
        {
          "output_type": "execute_result",
          "data": {
            "text/plain": [
              "tensor([[[12.4000],\n",
              "         [11.3000],\n",
              "         [11.4000],\n",
              "         ...,\n",
              "         [13.0000],\n",
              "         [13.0000],\n",
              "         [11.8000]],\n",
              "\n",
              "        [[12.2000],\n",
              "         [10.8000],\n",
              "         [11.3000],\n",
              "         ...,\n",
              "         [12.9000],\n",
              "         [12.9000],\n",
              "         [11.5000]],\n",
              "\n",
              "        [[11.9000],\n",
              "         [10.6000],\n",
              "         [11.1000],\n",
              "         ...,\n",
              "         [12.7000],\n",
              "         [12.7000],\n",
              "         [11.1000]],\n",
              "\n",
              "        ...,\n",
              "\n",
              "        [[29.2000],\n",
              "         [30.5000],\n",
              "         [29.3000],\n",
              "         ...,\n",
              "         [28.5000],\n",
              "         [28.5000],\n",
              "         [28.3000]],\n",
              "\n",
              "        [[28.3000],\n",
              "         [29.2000],\n",
              "         [28.8000],\n",
              "         ...,\n",
              "         [27.8000],\n",
              "         [27.8000],\n",
              "         [27.9000]],\n",
              "\n",
              "        [[27.6000],\n",
              "         [28.9000],\n",
              "         [28.3000],\n",
              "         ...,\n",
              "         [27.4000],\n",
              "         [27.4000],\n",
              "         [27.6000]]])"
            ]
          },
          "metadata": {},
          "execution_count": 27
        }
      ],
      "source": [
        "test_y_parallel"
      ]
    },
    {
      "cell_type": "code",
      "execution_count": null,
      "metadata": {
        "id": "H0ssKD2WyVbf"
      },
      "outputs": [],
      "source": [
        "train_x_parallel = Variable(train_x_parallel)\n",
        "test_x_parallel = Variable(test_x_parallel)\n",
        "train_y_parallel = Variable(train_y_parallel)\n",
        "test_y_parallel = Variable(test_y_parallel)"
      ]
    },
    {
      "cell_type": "code",
      "execution_count": null,
      "metadata": {
        "colab": {
          "base_uri": "https://localhost:8080/"
        },
        "id": "0D6HNKwnqPf-",
        "outputId": "2b621e2c-441e-45b0-a8aa-f11c1fc0ea2b"
      },
      "outputs": [
        {
          "output_type": "execute_result",
          "data": {
            "text/plain": [
              "tensor([[[-0.6800, -0.4819, -0.0712,  ...,  0.0000,  0.0000,  3.0000],\n",
              "         [-0.8143, -0.4337,  0.1261,  ...,  0.0000,  0.0000,  0.0000],\n",
              "         [-1.0870, -0.4333,  0.4135,  ...,  0.0000,  0.0000,  3.0000],\n",
              "         ...,\n",
              "         [-1.0152, -0.7816, -0.1880,  ...,  0.0000,  0.0000,  3.0000],\n",
              "         [-1.0152, -0.7816, -0.1880,  ...,  0.0000,  0.0000,  3.0000],\n",
              "         [-1.0189, -0.7342, -0.2109,  ...,  0.0000,  0.0000,  0.0000]],\n",
              "\n",
              "        [[-0.9067, -0.4458,  0.1966,  ...,  0.0000,  0.0000,  3.0000],\n",
              "         [-0.9143, -0.6145,  0.0176,  ...,  0.0000,  0.0000,  0.0000],\n",
              "         [-1.1739, -0.4222,  0.5064,  ...,  0.0000,  0.0000,  3.0000],\n",
              "         ...,\n",
              "         [-1.0909, -0.7241, -0.0513,  ...,  0.0000,  0.0000,  3.0000],\n",
              "         [-1.0909, -0.7241, -0.0513,  ...,  0.0000,  0.0000,  3.0000],\n",
              "         [-1.0755, -0.7089, -0.1211,  ...,  0.0000,  0.0000,  0.0000]],\n",
              "\n",
              "        [[-1.0267, -0.4458,  0.3333,  ...,  0.0000,  0.0000,  3.0000],\n",
              "         [-1.0143, -0.7349, -0.0293,  ...,  0.0000,  0.0000,  0.0000],\n",
              "         [-1.2319, -0.4333,  0.5609,  ...,  0.0000,  0.0000,  3.0000],\n",
              "         ...,\n",
              "         [-1.1364, -0.7011,  0.0285,  ...,  0.0000,  0.0000,  3.0000],\n",
              "         [-1.1364, -0.7011,  0.0285,  ...,  0.0000,  0.0000,  3.0000],\n",
              "         [-1.0943, -0.6835, -0.0469,  ...,  0.0000,  0.0000,  0.0000]],\n",
              "\n",
              "        ...,\n",
              "\n",
              "        [[ 0.4933,  1.1446,  0.6410,  ...,  0.0000,  0.0000,  3.0000],\n",
              "         [ 0.8571,  0.7831, -0.0323,  ...,  0.0000,  0.0000,  0.0000],\n",
              "         [ 0.5797,  0.9444,  0.6154,  ...,  0.0000,  0.0000,  0.0000],\n",
              "         ...,\n",
              "         [ 0.6515,  0.7701,  0.2137,  ...,  0.0000,  0.0000,  0.0000],\n",
              "         [ 0.6515,  0.7701,  0.2137,  ...,  0.0000,  0.0000,  0.0000],\n",
              "         [ 0.7547,  0.8228,  0.4297,  ...,  0.0000,  0.0000,  0.0000]],\n",
              "\n",
              "        [[ 0.4533,  1.1084,  0.6439,  ...,  0.0000,  0.0000,  3.0000],\n",
              "         [ 0.7000,  0.8072,  0.1290,  ...,  0.0000,  0.0000,  0.0000],\n",
              "         [ 0.5362,  0.9556,  0.6763,  ...,  0.0000,  0.0000,  0.0000],\n",
              "         ...,\n",
              "         [ 0.5758,  0.8161,  0.3476,  ...,  0.0000,  0.0000,  0.0000],\n",
              "         [ 0.5758,  0.8161,  0.3476,  ...,  0.0000,  0.0000,  0.0000],\n",
              "         [ 0.7170,  0.8228,  0.4883,  ...,  0.0000,  0.0000,  0.0000]],\n",
              "\n",
              "        [[ 0.4000,  1.0723,  0.6524,  ...,  0.0000,  0.0000,  3.0000],\n",
              "         [ 0.7143,  0.7831,  0.0997,  ...,  0.0000,  0.0000,  0.0000],\n",
              "         [ 0.4928,  0.9889,  0.7628,  ...,  0.2000, 11.0000,  4.0000],\n",
              "         ...,\n",
              "         [ 0.5000,  0.7931,  0.4074,  ...,  0.0000,  0.0000,  0.0000],\n",
              "         [ 0.5000,  0.7931,  0.4074,  ...,  0.0000,  0.0000,  0.0000],\n",
              "         [ 0.6604,  0.9114,  0.7031,  ...,  0.0000,  0.0000,  0.0000]]])"
            ]
          },
          "metadata": {},
          "execution_count": 29
        }
      ],
      "source": [
        "train_x_parallel"
      ]
    },
    {
      "cell_type": "code",
      "execution_count": null,
      "metadata": {
        "colab": {
          "base_uri": "https://localhost:8080/"
        },
        "id": "P_qXphr7Dc2O",
        "outputId": "221a7b45-ad22-4e96-eb19-1d07233dd970"
      },
      "outputs": [
        {
          "output_type": "stream",
          "name": "stdout",
          "text": [
            "torch.Size([10, 8832, 7])\n",
            "torch.Size([10, 8832, 1])\n",
            "torch.Size([10, 2208, 7])\n",
            "torch.Size([10, 2208, 1])\n",
            "Epoch [1/1000], Train Loss: 25.9989, Valid Loss: 25.2696, Valid MAE: 25.2696\n",
            "Epoch [2/1000], Train Loss: 25.9647, Valid Loss: 25.2331, Valid MAE: 25.2331\n",
            "Epoch [3/1000], Train Loss: 25.9275, Valid Loss: 25.1849, Valid MAE: 25.1849\n",
            "Epoch [4/1000], Train Loss: 25.8779, Valid Loss: 25.1053, Valid MAE: 25.1053\n",
            "Epoch [5/1000], Train Loss: 25.7939, Valid Loss: 24.9483, Valid MAE: 24.9483\n",
            "Epoch [6/1000], Train Loss: 25.6257, Valid Loss: 24.6152, Valid MAE: 24.6152\n",
            "Epoch [7/1000], Train Loss: 25.2658, Valid Loss: 23.8584, Valid MAE: 23.8584\n",
            "Epoch [8/1000], Train Loss: 24.4647, Valid Loss: 22.3904, Valid MAE: 22.3904\n",
            "Epoch [9/1000], Train Loss: 22.9910, Valid Loss: 20.2290, Valid MAE: 20.2290\n",
            "Epoch [10/1000], Train Loss: 20.8394, Valid Loss: 17.1284, Valid MAE: 17.1284\n",
            "Epoch [11/1000], Train Loss: 17.8632, Valid Loss: 13.6246, Valid MAE: 13.6246\n",
            "Epoch [12/1000], Train Loss: 14.3375, Valid Loss: 9.8212, Valid MAE: 9.8212\n",
            "Epoch [13/1000], Train Loss: 10.3868, Valid Loss: 7.0794, Valid MAE: 7.0794\n",
            "Epoch [14/1000], Train Loss: 7.4959, Valid Loss: 8.4337, Valid MAE: 8.4337\n",
            "Epoch [15/1000], Train Loss: 8.7329, Valid Loss: 10.8519, Valid MAE: 10.8519\n",
            "Epoch [16/1000], Train Loss: 11.0090, Valid Loss: 11.2473, Valid MAE: 11.2473\n",
            "Epoch [17/1000], Train Loss: 11.3857, Valid Loss: 10.0619, Valid MAE: 10.0619\n",
            "Epoch [18/1000], Train Loss: 10.2640, Valid Loss: 8.3695, Valid MAE: 8.3695\n",
            "Epoch [19/1000], Train Loss: 8.6734, Valid Loss: 7.1331, Valid MAE: 7.1331\n",
            "Epoch [20/1000], Train Loss: 7.5106, Valid Loss: 7.0548, Valid MAE: 7.0548\n",
            "Epoch [21/1000], Train Loss: 7.4496, Valid Loss: 7.7373, Valid MAE: 7.7373\n",
            "Epoch [22/1000], Train Loss: 8.1618, Valid Loss: 8.3831, Valid MAE: 8.3831\n",
            "Epoch [23/1000], Train Loss: 8.8416, Valid Loss: 8.6377, Valid MAE: 8.6377\n",
            "Epoch [24/1000], Train Loss: 9.1090, Valid Loss: 8.4696, Valid MAE: 8.4696\n"
          ]
        }
      ],
      "source": [
        "import torch\n",
        "import torch.nn as nn\n",
        "import torch.optim as optim\n",
        "\n",
        "def mean_absolute_error(y_true, y_pred):\n",
        "    return torch.mean(torch.abs(y_true - y_pred))\n",
        "\n",
        "class LSTMModel(nn.Module):\n",
        "    def __init__(self, input_size, hidden_size, num_layers, output_size):\n",
        "        super(LSTMModel, self).__init__()\n",
        "        self.hidden_size = hidden_size\n",
        "        self.num_layers = num_layers\n",
        "        self.lstm = nn.LSTM(input_size, hidden_size, num_layers, batch_first=True)\n",
        "        self.layer_1 = nn.Linear(hidden_size, 256)\n",
        "        self.layer_2 = nn.Linear(256,256)\n",
        "        self.layer_3 = nn.Linear(256,128)\n",
        "        self.layer_out = nn.Linear(128, output_size)\n",
        "        self.relu = nn.ReLU() #Activation Func\n",
        "        self.tanh = nn.Tanh()  # Activation function\n",
        "\n",
        "\n",
        "\n",
        "\n",
        "    def forward(self, x):\n",
        "        h0 = torch.zeros(self.num_layers, x.size(0), self.hidden_size).to(x.device)\n",
        "        c0 = torch.zeros(self.num_layers, x.size(0), self.hidden_size).to(x.device)\n",
        "        out, (hn, cn) = self.lstm(x, (h0 , c0))\n",
        "        out = self.layer_1(out) # first layer\n",
        "        out = self.relu(out) # activation func relu\n",
        "        out = self.layer_2(out)\n",
        "        out = self.relu(out)\n",
        "        out = self.layer_3(out)\n",
        "        out = self.relu(out)\n",
        "        out = self.layer_out(out) #Output layer\n",
        "        return out\n",
        "\n",
        "# 입력과 출력 크기 설정\n",
        "input_size = 7\n",
        "hidden_size = 516\n",
        "#hidden_size = 256 봄\n",
        "num_layers = 2\n",
        "output_size = 1\n",
        "\n",
        "# 모델 인스턴스 생성\n",
        "model = LSTMModel(input_size, hidden_size, num_layers, output_size)\n",
        "\n",
        "# 손실 함수와 최적화 함수 설정\n",
        "criterion = nn.L1Loss()\n",
        "optimizer = optim.Adam(model.parameters(), lr=0.001)\n",
        "\n",
        "\n",
        "# x 텐서와 y 텐서 생성 (임의의 값으로 초기화)\n",
        "x_train = train_x_parallel.view(10*7,-1, 7) # (..., 40, 7)\n",
        "y_train = train_y_parallel.view(10*7,-1, 1)  # (..., 40, 1)\n",
        "x_valid = test_x_parallel.view(10*7,-1,7)  # (..., 40, 7)\n",
        "y_valid = test_y_parallel.view(10*7, -1, 1)  # (..., 40, 1)\n",
        "\n",
        "print(x_train.shape)\n",
        "print(y_train.shape)\n",
        "print(x_valid.shape)\n",
        "print(y_valid.shape)\n",
        "\n",
        "# x_train\n",
        "\n",
        "x_train.shape\n",
        "# 학습\n",
        "num_epochs = 1000\n",
        "for epoch in range(num_epochs):\n",
        "    model.train()\n",
        "    optimizer.zero_grad()\n",
        "    outputs = model(x_train)\n",
        "    loss = criterion(outputs, y_train)\n",
        "    loss.backward()\n",
        "    optimizer.step()\n",
        "\n",
        "    # Validation\n",
        "    model.eval()\n",
        "    with torch.no_grad():\n",
        "        valid_outputs = model(x_valid)\n",
        "        valid_loss = criterion(valid_outputs, y_valid)\n",
        "        valid_mae = mean_absolute_error(valid_outputs, y_valid)\n",
        "\n",
        "    if (epoch + 1) % 1 == 0:\n",
        "        print(f'Epoch [{epoch+1}/{num_epochs}], Train Loss: {loss.item():.4f}, Valid Loss: {valid_loss.item():.4f}, Valid MAE: {valid_mae.item():.4f}')\n",
        "\n",
        "# 테스트\n",
        "model.eval()\n",
        "with torch.no_grad():\n",
        "    predicted = model(x_valid)\n",
        "    print(\"Predicted:\", predicted)\n"
      ]
    },
    {
      "cell_type": "code",
      "execution_count": null,
      "metadata": {
        "id": "b58u34EvlIt0"
      },
      "outputs": [],
      "source": []
    }
  ],
  "metadata": {
    "accelerator": "GPU",
    "colab": {
      "machine_shape": "hm",
      "provenance": []
    },
    "kernelspec": {
      "display_name": "Python 3",
      "name": "python3"
    },
    "language_info": {
      "name": "python"
    }
  },
  "nbformat": 4,
  "nbformat_minor": 0
}